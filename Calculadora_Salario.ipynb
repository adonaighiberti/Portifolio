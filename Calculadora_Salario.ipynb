{
  "nbformat": 4,
  "nbformat_minor": 0,
  "metadata": {
    "colab": {
      "provenance": [],
      "include_colab_link": true
    },
    "kernelspec": {
      "name": "python3",
      "display_name": "Python 3"
    },
    "language_info": {
      "name": "python"
    }
  },
  "cells": [
    {
      "cell_type": "markdown",
      "metadata": {
        "id": "view-in-github",
        "colab_type": "text"
      },
      "source": [
        "<a href=\"https://colab.research.google.com/github/adonaighiberti/Portifolio/blob/main/Calculadora_Salario.ipynb\" target=\"_parent\"><img src=\"https://colab.research.google.com/assets/colab-badge.svg\" alt=\"Open In Colab\"/></a>"
      ]
    },
    {
      "cell_type": "code",
      "execution_count": null,
      "metadata": {
        "colab": {
          "base_uri": "https://localhost:8080/"
        },
        "id": "naOaZkdl2tba",
        "outputId": "88eee852-a034-4ca2-c477-8714adb140f8"
      },
      "outputs": [
        {
          "output_type": "stream",
          "name": "stdout",
          "text": [
            "Qual o seu salário?\n",
            "2000\n",
            "Seu salário bruto é de 2000.0\n",
            "Seu desconto do INSS é 160.2\n",
            "Seu descondo de IR é de 46.87\n",
            "Seu descondo total é de 207.07\n",
            "Seu salário líquido é de 1839.8\n"
          ]
        }
      ],
      "source": [
        "pagamento = 0\n",
        "\n",
        "print(\"Qual o seu salário?\")\n",
        "pagamento = input()\n",
        "\n",
        "pagamento = float(pagamento)\n",
        "\n",
        "if float(pagamento) <= 1320:\n",
        "  desconto_inss = (0.075 * pagamento)\n",
        "  pagamento_s_inss = pagamento - desconto_inss\n",
        "elif float(pagamento) >= 1320.01 and float(pagamento) <= 2571.29:\n",
        "  var1 = pagamento - 1320\n",
        "  var2 = var1 * 0.09\n",
        "  desconto_inss = 99 + var2\n",
        "  pagamento_s_inss = pagamento - desconto_inss\n",
        "elif float(pagamento) >= 2571.30 and float(pagamento) <= 3856.94:\n",
        "  var1 = pagamento - 2571.29\n",
        "  var2 = var1 * 0.12\n",
        "  desconto_inss = 99 + 112.62 + var2\n",
        "  pagamento_s_inss = pagamento - desconto_inss\n",
        "elif float(pagamento) >= 3856.95 and float(pagamento) <= 7507.49:\n",
        "  var1 = pagamento - 3856.94\n",
        "  var2 = var1 * 0.14\n",
        "  desconto_inss = 99 + 112.62 + 154.28 + var2\n",
        "  pagamento_s_inss = pagamento - desconto_inss\n",
        "elif float(pagamento) > 7507.49:\n",
        "  desconto_inss = 99.00 + 112.62 + 154.28 + 511.08\n",
        "  pagamento_s_inss = pagamento - desconto_inss\n",
        "\n",
        "if pagamento_s_inss <= 2112:\n",
        "  pagamento_liquido = pagamento_s_inss\n",
        "elif pagamento_s_inss >= 2112.01 and pagamento_s_inss <= 2826.65:\n",
        "  desconto_ir = (pagamento_s_inss * 0.075) - 158.4\n",
        "  pagamento_liquido = pagamento_s_inss - desconto_ir\n",
        "elif pagamento_s_inss >= 2826.66 and pagamento_s_inss <= 3751.06:\n",
        "  desconto_ir = (pagamento_s_inss * 0.15) - 370.4\n",
        "  pagamento_liquido = pagamento_s_inss - desconto_ir\n",
        "elif pagamento_s_inss >= 3751.07 and pagamento_s_inss <= 4664.68:\n",
        "  desconto_ir = (pagamento_s_inss * 0.225) - 651.73\n",
        "  pagamento_liquido = pagamento_s_inss - desconto_ir\n",
        "elif pagamento_s_inss > 4664.69:\n",
        "  desconto_ir = (pagamento_s_inss * 0.275) - 884.96\n",
        "  pagamento_liquido = pagamento_s_inss - desconto_ir\n",
        "\n",
        "desconto_total = desconto_ir + desconto_inss\n",
        "\n",
        "print(f'Seu salário bruto é de {pagamento}')\n",
        "print(f'Seu desconto do INSS é {round(desconto_inss,2)}')\n",
        "print(f'Seu descondo de IR é de {round(desconto_ir,2)}')\n",
        "print(f'Seu descondo total é de {round(desconto_total,2)}')\n",
        "print(f'Seu salário líquido é de {round(pagamento_liquido,2)}')\n"
      ]
    }
  ]
}